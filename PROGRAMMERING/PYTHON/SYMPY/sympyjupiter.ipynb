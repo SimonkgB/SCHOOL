{
 "cells": [
  {
   "cell_type": "code",
   "execution_count": 43,
   "metadata": {},
   "outputs": [],
   "source": [
    "import sympy as smp\n",
    "import numpy as np\n",
    "import matplotlib.pyplot as plt"
   ]
  },
  {
   "cell_type": "code",
   "execution_count": 44,
   "metadata": {},
   "outputs": [
    {
     "data": {
      "text/plain": [
       "'\\nx = smp.symbols(\"x\")\\nY = smp.functions(\"Y\")\\ndisplay(Y)\\n\\nf= smp.lambdify(x, smp.sin(x))\\nt = np.linspace(0,10,1000)\\nplt.plot(t,f(t))\\nplt.show()\\n'"
      ]
     },
     "execution_count": 44,
     "metadata": {},
     "output_type": "execute_result"
    }
   ],
   "source": [
    "\n",
    "\n"
   ]
  },
  {
   "cell_type": "code",
   "execution_count": 77,
   "metadata": {},
   "outputs": [
    {
     "data": {
      "image/png": "[encoded data removed]",
      "text/latex": [
       "$\\displaystyle 3 x^{4} - x^{2} - 5$"
      ],
      "text/plain": [
       "   4    2    \n",
       "3⋅x  - x  - 5"
      ]
     },
     "execution_count": 77,
     "metadata": {},
     "output_type": "execute_result"
    }
   ],
   "source": [
    "x,y = smp.symbols(\"x y\")\n",
    "\n",
    "z = 3*x**4-x**2-5\n",
    "z.factor()\n",
    "\n",
    "\n"
   ]
  },
  {
   "cell_type": "code",
   "execution_count": 85,
   "metadata": {},
   "outputs": [
    {
     "data": {
      "image/png": "[encoded data removed]",
      "text/latex": [
       "$\\displaystyle \\left[ - i \\sqrt{- \\frac{1}{6} + \\frac{\\sqrt{61}}{6}}, \\  i \\sqrt{- \\frac{1}{6} + \\frac{\\sqrt{61}}{6}}, \\  - \\sqrt{\\frac{1}{6} + \\frac{\\sqrt{61}}{6}}, \\  \\sqrt{\\frac{1}{6} + \\frac{\\sqrt{61}}{6}}\\right]$"
      ],
      "text/plain": [
       "⎡       ___________        ___________       _________      _________⎤\n",
       "⎢      ╱   1   √61        ╱   1   √61       ╱ 1   √61      ╱ 1   √61 ⎥\n",
       "⎢-ⅈ⋅  ╱  - ─ + ─── , ⅈ⋅  ╱  - ─ + ─── , -  ╱  ─ + ─── ,   ╱  ─ + ─── ⎥\n",
       "⎣   ╲╱     6    6      ╲╱     6    6     ╲╱   6    6    ╲╱   6    6  ⎦"
      ]
     },
     "execution_count": 85,
     "metadata": {},
     "output_type": "execute_result"
    }
   ],
   "source": [
    "smp.solve(z,x,)\n"
   ]
  },
  {
   "cell_type": "code",
   "execution_count": 86,
   "metadata": {},
   "outputs": [
    {
     "data": {
      "image/png": "[encoded data removed]",
      "text/latex": [
       "$\\displaystyle 12 x^{3} - 2 x$"
      ],
      "text/plain": [
       "    3      \n",
       "12⋅x  - 2⋅x"
      ]
     },
     "execution_count": 86,
     "metadata": {},
     "output_type": "execute_result"
    }
   ],
   "source": [
    "smp.diff(z,x)"
   ]
  },
  {
   "cell_type": "code",
   "execution_count": 92,
   "metadata": {},
   "outputs": [
    {
     "data": {
      "text/latex": [
       "$\\displaystyle \\left(\\frac{d}{d x} g{\\left(x \\right)} + 1\\right) \\left. \\frac{d}{d \\xi_{1}} f{\\left(\\xi_{1} \\right)} \\right|_{\\substack{ \\xi_{1}=x + g{\\left(x \\right)} }}$"
      ],
      "text/plain": [
       "⎛d           ⎞ ⎛ d        ⎞│           \n",
       "⎜──(g(x)) + 1⎟⋅⎜───(f(ξ₁))⎟│           \n",
       "⎝dx          ⎠ ⎝dξ₁       ⎠│ξ₁=x + g(x)"
      ]
     },
     "execution_count": 92,
     "metadata": {},
     "output_type": "execute_result"
    }
   ],
   "source": [
    "f, g = smp.symbols(\"f g\", cls=smp.Function)\n",
    "g = g(x)\n",
    "f = f(x+g)\n",
    "dfdx = smp.diff(f,x)\n",
    "dfdx"
   ]
  },
  {
   "cell_type": "code",
   "execution_count": 93,
   "metadata": {},
   "outputs": [
    {
     "data": {
      "text/latex": [
       "$\\displaystyle \\left(\\frac{d}{d x} \\sin{\\left(x \\right)} + 1\\right) \\left. \\frac{d}{d \\xi_{1}} f{\\left(\\xi_{1} \\right)} \\right|_{\\substack{ \\xi_{1}=x + \\sin{\\left(x \\right)} }}$"
      ],
      "text/plain": [
       "⎛d             ⎞ ⎛ d        ⎞│             \n",
       "⎜──(sin(x)) + 1⎟⋅⎜───(f(ξ₁))⎟│             \n",
       "⎝dx            ⎠ ⎝dξ₁       ⎠│ξ₁=x + sin(x)"
      ]
     },
     "execution_count": 93,
     "metadata": {},
     "output_type": "execute_result"
    }
   ],
   "source": [
    "dfdx.subs([(g,smp.sin(x))])"
   ]
  },
  {
   "cell_type": "code",
   "execution_count": 95,
   "metadata": {},
   "outputs": [
    {
     "data": {
      "text/latex": [
       "$\\displaystyle \\left(\\cos{\\left(x \\right)} + 1\\right) \\left. \\frac{d}{d \\xi_{1}} f{\\left(\\xi_{1} \\right)} \\right|_{\\substack{ \\xi_{1}=x + \\sin{\\left(x \\right)} }}$"
      ],
      "text/plain": [
       "             ⎛ d        ⎞│             \n",
       "(cos(x) + 1)⋅⎜───(f(ξ₁))⎟│             \n",
       "             ⎝dξ₁       ⎠│ξ₁=x + sin(x)"
      ]
     },
     "execution_count": 95,
     "metadata": {},
     "output_type": "execute_result"
    }
   ],
   "source": [
    "dfdx.subs([(g,smp.sin(x))]).doit()"
   ]
  },
  {
   "cell_type": "code",
   "execution_count": 96,
   "metadata": {},
   "outputs": [
    {
     "data": {
      "image/png": "[encoded data removed]",
      "text/latex": [
       "$\\displaystyle \\frac{\\sqrt{\\pi} \\operatorname{erf}{\\left(x \\right)}}{2}$"
      ],
      "text/plain": [
       "√π⋅erf(x)\n",
       "─────────\n",
       "    2    "
      ]
     },
     "execution_count": 96,
     "metadata": {},
     "output_type": "execute_result"
    }
   ],
   "source": [
    "smp.integrate(smp.exp(-x**2))"
   ]
  },
  {
   "cell_type": "code",
   "execution_count": 100,
   "metadata": {},
   "outputs": [
    {
     "data": {
      "image/png": "[encoded data removed]",
      "text/latex": [
       "$\\displaystyle \\frac{\\pi}{2}$"
      ],
      "text/plain": [
       "π\n",
       "─\n",
       "2"
      ]
     },
     "execution_count": 100,
     "metadata": {},
     "output_type": "execute_result"
    }
   ],
   "source": [
    "smp.integrate(smp.sin(x)**2 ,(x,0,smp.pi))"
   ]
  },
  {
   "cell_type": "code",
   "execution_count": 103,
   "metadata": {},
   "outputs": [],
   "source": [
    "x,y,z,u1,u2,u3,v1,v2,v3,t = smp.symbols(\"x y z u_1 u_2 u_3 v_1 v_2 v_3 t\")"
   ]
  },
  {
   "cell_type": "code",
   "execution_count": 106,
   "metadata": {},
   "outputs": [
    {
     "data": {
      "text/latex": [
       "$\\displaystyle \\left[\\begin{matrix}2 u_{1} + v_{1}\\\\2 u_{2} + v_{2}\\\\2 u_{3} + v_{3}\\end{matrix}\\right]$"
      ],
      "text/plain": [
       "⎡2⋅u₁ + v₁⎤\n",
       "⎢         ⎥\n",
       "⎢2⋅u₂ + v₂⎥\n",
       "⎢         ⎥\n",
       "⎣2⋅u₃ + v₃⎦"
      ]
     },
     "execution_count": 106,
     "metadata": {},
     "output_type": "execute_result"
    }
   ],
   "source": [
    "u = smp.Matrix([u1,u2,u3])\n",
    "v = smp.Matrix([v1,v2,v3])"
   ]
  },
  {
   "cell_type": "code",
   "execution_count": 109,
   "metadata": {},
   "outputs": [
    {
     "data": {
      "image/png": "[encoded data removed]",
      "text/latex": [
       "$\\displaystyle u_{1} v_{1} + u_{2} v_{2} + u_{3} v_{3}$"
      ],
      "text/plain": [
       "u₁⋅v₁ + u₂⋅v₂ + u₃⋅v₃"
      ]
     },
     "metadata": {},
     "output_type": "display_data"
    },
    {
     "data": {
      "text/latex": [
       "$\\displaystyle \\left[\\begin{matrix}u_{2} v_{3} - u_{3} v_{2}\\\\- u_{1} v_{3} + u_{3} v_{1}\\\\u_{1} v_{2} - u_{2} v_{1}\\end{matrix}\\right]$"
      ],
      "text/plain": [
       "⎡u₂⋅v₃ - u₃⋅v₂ ⎤\n",
       "⎢              ⎥\n",
       "⎢-u₁⋅v₃ + u₃⋅v₁⎥\n",
       "⎢              ⎥\n",
       "⎣u₁⋅v₂ - u₂⋅v₁ ⎦"
      ]
     },
     "metadata": {},
     "output_type": "display_data"
    },
    {
     "data": {
      "image/png": "[encoded data removed]",
      "text/latex": [
       "$\\displaystyle \\sqrt{\\left|{u_{1}}\\right|^{2} + \\left|{u_{2}}\\right|^{2} + \\left|{u_{3}}\\right|^{2}}$"
      ],
      "text/plain": [
       "   _______________________\n",
       "  ╱     2       2       2 \n",
       "╲╱  │u₁│  + │u₂│  + │u₃│  "
      ]
     },
     "execution_count": 109,
     "metadata": {},
     "output_type": "execute_result"
    }
   ],
   "source": [
    "display(u.dot(v))\n",
    "display(u.cross(v))\n",
    "u.norm()"
   ]
  },
  {
   "cell_type": "code",
   "execution_count": 110,
   "metadata": {},
   "outputs": [
    {
     "data": {
      "text/latex": [
       "$\\displaystyle \\left[\\begin{matrix}3 t\\\\\\sin{\\left(t \\right)}\\\\t^{2}\\end{matrix}\\right]$"
      ],
      "text/plain": [
       "⎡ 3⋅t  ⎤\n",
       "⎢      ⎥\n",
       "⎢sin(t)⎥\n",
       "⎢      ⎥\n",
       "⎢   2  ⎥\n",
       "⎣  t   ⎦"
      ]
     },
     "execution_count": 110,
     "metadata": {},
     "output_type": "execute_result"
    }
   ],
   "source": [
    "r = smp.symbols(\"r\")\n",
    "r = smp.Matrix([3*t, smp.sin(t), t**2])\n",
    "r"
   ]
  },
  {
   "cell_type": "code",
   "execution_count": 111,
   "metadata": {},
   "outputs": [
    {
     "data": {
      "text/latex": [
       "$\\displaystyle \\left[\\begin{matrix}3\\\\\\cos{\\left(t \\right)}\\\\2 t\\end{matrix}\\right]$"
      ],
      "text/plain": [
       "⎡  3   ⎤\n",
       "⎢      ⎥\n",
       "⎢cos(t)⎥\n",
       "⎢      ⎥\n",
       "⎣ 2⋅t  ⎦"
      ]
     },
     "execution_count": 111,
     "metadata": {},
     "output_type": "execute_result"
    }
   ],
   "source": [
    "smp.diff(r,t)"
   ]
  },
  {
   "cell_type": "code",
   "execution_count": 112,
   "metadata": {},
   "outputs": [
    {
     "data": {
      "image/png": "[encoded data removed]",
      "text/latex": [
       "$\\displaystyle y^{2} \\cos{\\left(x + y \\right)} + 2 y \\sin{\\left(x + y \\right)}$"
      ],
      "text/plain": [
       " 2                            \n",
       "y ⋅cos(x + y) + 2⋅y⋅sin(x + y)"
      ]
     },
     "execution_count": 112,
     "metadata": {},
     "output_type": "execute_result"
    }
   ],
   "source": [
    "x,y,z = smp.symbols(\"x y z\")\n",
    "f = y**2 * smp.sin(x+y)\n",
    "smp.diff(f,y)"
   ]
  },
  {
   "cell_type": "code",
   "execution_count": 113,
   "metadata": {},
   "outputs": [
    {
     "data": {
      "image/png": "[encoded data removed]",
      "text/latex": [
       "$\\displaystyle - y^{2} \\cos{\\left(x + y \\right)} - 4 y \\sin{\\left(x + y \\right)} + 2 \\cos{\\left(x + y \\right)}$"
      ],
      "text/plain": [
       "   2                                           \n",
       "- y ⋅cos(x + y) - 4⋅y⋅sin(x + y) + 2⋅cos(x + y)"
      ]
     },
     "execution_count": 113,
     "metadata": {},
     "output_type": "execute_result"
    }
   ],
   "source": [
    "smp.diff(f,y,y,x)       #d^3f/dxy^2"
   ]
  },
  {
   "cell_type": "code",
   "execution_count": 122,
   "metadata": {},
   "outputs": [
    {
     "data": {
      "image/png": "[encoded data removed]",
      "text/latex": [
       "$\\displaystyle \\frac{1}{8}$"
      ],
      "text/plain": [
       "1/8"
      ]
     },
     "execution_count": 122,
     "metadata": {},
     "output_type": "execute_result"
    }
   ],
   "source": [
    "x,y,z = smp.symbols(\"x y z\")\n",
    "f=x\n",
    "smp.Integral(f, (z,3,4-x**2-y**2), (y,0,1-x**2), (x,0,1)).doit()    #husk orden\n"
   ]
  }
 ],
 "metadata": {
  "kernelspec": {
   "display_name": "Python 3",
   "language": "python",
   "name": "python3"
  },
  "language_info": {
   "codemirror_mode": {
    "name": "ipython",
    "version": 3
   },
   "file_extension": ".py",
   "mimetype": "text/x-python",
   "name": "python",
   "nbconvert_exporter": "python",
   "pygments_lexer": "ipython3",
   "version": "3.11.3"
  },
  "orig_nbformat": 4,
  "vscode": {
   "interpreter": {
    "hash": "75e943d872e43f06592aae71e32e08f15e458d56560d2ac16e09cfa2e3c2b62c"
   }
  }
 },
 "nbformat": 4,
 "nbformat_minor": 2
}
